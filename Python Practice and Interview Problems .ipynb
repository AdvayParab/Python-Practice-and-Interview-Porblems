{
 "cells": [
  {
   "cell_type": "markdown",
   "id": "c6e513c4",
   "metadata": {},
   "source": [
    "# Python Practice and Interview Questions"
   ]
  },
  {
   "cell_type": "markdown",
   "id": "81f6a6df",
   "metadata": {},
   "source": [
    "## >>Basics"
   ]
  },
  {
   "cell_type": "code",
   "execution_count": 3,
   "id": "98a9fa54",
   "metadata": {},
   "outputs": [
    {
     "name": "stdout",
     "output_type": "stream",
     "text": [
      "Hello, World!\n"
     ]
    }
   ],
   "source": [
    "# Section 1: Printing \"Hello World\"\n",
    "print(\"Hello, World!\")"
   ]
  },
  {
   "cell_type": "code",
   "execution_count": 5,
   "id": "331729bd",
   "metadata": {},
   "outputs": [
    {
     "name": "stdout",
     "output_type": "stream",
     "text": [
      "Addition: 10\n",
      "Subtraction: 4\n",
      "Multiplication: 21\n",
      "Division: 2.3333333333333335\n",
      "Floor Division: 2\n",
      "Modulo: 1\n",
      "Exponentiation: 343\n"
     ]
    }
   ],
   "source": [
    "# Section 2: Basic Arithmetic and Exponentials\n",
    "x = 7\n",
    "y = 3\n",
    "\n",
    "# Arithmetic operations\n",
    "print(f\"Addition: {x + y}\")\n",
    "print(f\"Subtraction: {x - y}\")\n",
    "print(f\"Multiplication: {x * y}\")\n",
    "print(f\"Division: {x / y}\")\n",
    "print(f\"Floor Division: {x // y}\")\n",
    "print(f\"Modulo: {x % y}\")\n",
    "print(f\"Exponentiation: {x ** y}\")"
   ]
  },
  {
   "cell_type": "markdown",
   "id": "d28301b1",
   "metadata": {},
   "source": [
    "## >>Control Flow"
   ]
  },
  {
   "cell_type": "code",
   "execution_count": 6,
   "id": "c13e939d",
   "metadata": {},
   "outputs": [
    {
     "name": "stdout",
     "output_type": "stream",
     "text": [
      "10 is Even\n",
      "15 is Odd\n"
     ]
    }
   ],
   "source": [
    "# Section 1: Find Even or Odd\n",
    "def find_even_odd(number):\n",
    "    if number % 2 == 0:\n",
    "        return f\"{number} is Even\"\n",
    "    else:\n",
    "        return f\"{number} is Odd\"\n",
    "\n",
    "print(find_even_odd(10))  # Example\n",
    "print(find_even_odd(15))  # Example"
   ]
  },
  {
   "cell_type": "code",
   "execution_count": 7,
   "id": "d48225ec",
   "metadata": {},
   "outputs": [
    {
     "name": "stdout",
     "output_type": "stream",
     "text": [
      "2024 is a Leap Year\n",
      "1900 is not a Leap Year\n"
     ]
    }
   ],
   "source": [
    "# Section 2: Find Leap Year\n",
    "def is_leap_year(year):\n",
    "    if (year % 4 == 0 and year % 100 != 0) or (year % 400 == 0):\n",
    "        return f\"{year} is a Leap Year\"\n",
    "    else:\n",
    "        return f\"{year} is not a Leap Year\"\n",
    "\n",
    "print(is_leap_year(2024))  # Example\n",
    "print(is_leap_year(1900))  # Example"
   ]
  },
  {
   "cell_type": "code",
   "execution_count": 8,
   "id": "9f277f3e",
   "metadata": {},
   "outputs": [
    {
     "name": "stdout",
     "output_type": "stream",
     "text": [
      "The largest number among 10, 20, and 15 is 20\n",
      "The largest number among 30, 5, and 25 is 30\n"
     ]
    }
   ],
   "source": [
    "# Section 3: Find the Largest of Three Numbers\n",
    "def find_largest(a, b, c):\n",
    "    largest = max(a, b, c)\n",
    "    return f\"The largest number among {a}, {b}, and {c} is {largest}\"\n",
    "\n",
    "print(find_largest(10, 20, 15))  # Example\n",
    "print(find_largest(30, 5, 25))  # Example"
   ]
  },
  {
   "cell_type": "markdown",
   "id": "fc375e2a",
   "metadata": {},
   "source": [
    "## >> Data Sturcture"
   ]
  },
  {
   "cell_type": "markdown",
   "id": "6897c22c",
   "metadata": {},
   "source": [
    "### >>>Lists:"
   ]
  },
  {
   "cell_type": "code",
   "execution_count": 10,
   "id": "2d451739",
   "metadata": {},
   "outputs": [
    {
     "name": "stdout",
     "output_type": "stream",
     "text": [
      "Sum of [10, 20, 30, 40]: 100\n"
     ]
    }
   ],
   "source": [
    "# Section 1: Sum of Elements in a List\n",
    "def list_sum(lst):\n",
    "    total = 0\n",
    "    for num in lst:\n",
    "        total += num\n",
    "    return total\n",
    "\n",
    "example_list = [10, 20, 30, 40]\n",
    "print(f\"Sum of {example_list}: {list_sum(example_list)}\")"
   ]
  },
  {
   "cell_type": "code",
   "execution_count": 11,
   "id": "8360712d",
   "metadata": {},
   "outputs": [
    {
     "name": "stdout",
     "output_type": "stream",
     "text": [
      "Average of [10, 20, 30, 40]: 25.0\n"
     ]
    }
   ],
   "source": [
    "# Section 2: Average of Elements in a List\n",
    "def list_average(lst):\n",
    "    total = 0\n",
    "    count = 0\n",
    "    for num in lst:\n",
    "        total += num\n",
    "        count += 1\n",
    "    return total / count if count != 0 else 0\n",
    "\n",
    "print(f\"Average of {example_list}: {list_average(example_list)}\")"
   ]
  },
  {
   "cell_type": "code",
   "execution_count": 12,
   "id": "5bb58472",
   "metadata": {},
   "outputs": [
    {
     "name": "stdout",
     "output_type": "stream",
     "text": [
      "Maximum value in [10, 20, 30, 40]: 40\n"
     ]
    }
   ],
   "source": [
    "# Section 3: Maximum Value in a List\n",
    "def list_max(lst):\n",
    "    if len(lst) == 0:\n",
    "        return None  # Handle empty list case\n",
    "    max_val = lst[0]\n",
    "    for num in lst:\n",
    "        if num > max_val:\n",
    "            max_val = num\n",
    "    return max_val\n",
    "\n",
    "print(f\"Maximum value in {example_list}: {list_max(example_list)}\")"
   ]
  },
  {
   "cell_type": "code",
   "execution_count": 13,
   "id": "919cd931",
   "metadata": {},
   "outputs": [
    {
     "name": "stdout",
     "output_type": "stream",
     "text": [
      "Squares of [1, 2, 3, 4, 5]: [1, 4, 9, 16, 25]\n"
     ]
    }
   ],
   "source": [
    "# Section 4: List Comprehension Example (Square of Each Element)\n",
    "example_list_2 = [1, 2, 3, 4, 5]\n",
    "squares = [num * num for num in example_list_2]\n",
    "print(f\"Squares of {example_list_2}: {squares}\")"
   ]
  },
  {
   "cell_type": "code",
   "execution_count": 14,
   "id": "ff0e8653",
   "metadata": {},
   "outputs": [
    {
     "name": "stdout",
     "output_type": "stream",
     "text": [
      "Occurrences in [1, 2, 2, 3, 3, 3, 4]: {1: 1, 2: 2, 3: 3, 4: 1}\n"
     ]
    }
   ],
   "source": [
    "# Section 5: Count Occurrences of Each Element in a List\n",
    "def count_occurrences(lst):\n",
    "    occurrences = {}\n",
    "    for num in lst:\n",
    "        if num in occurrences:\n",
    "            occurrences[num] += 1\n",
    "        else:\n",
    "            occurrences[num] = 1\n",
    "    return occurrences\n",
    "\n",
    "example_list_3 = [1, 2, 2, 3, 3, 3, 4]\n",
    "occurrences = count_occurrences(example_list_3)\n",
    "print(f\"Occurrences in {example_list_3}: {occurrences}\")"
   ]
  },
  {
   "cell_type": "markdown",
   "id": "4b5bfb6e",
   "metadata": {},
   "source": [
    "### >>> Tuples"
   ]
  },
  {
   "cell_type": "code",
   "execution_count": 15,
   "id": "4df2a2c2",
   "metadata": {},
   "outputs": [
    {
     "name": "stdout",
     "output_type": "stream",
     "text": [
      "Before swapping: a = 5, b = 10\n",
      "After swapping: a = 10, b = 5\n"
     ]
    }
   ],
   "source": [
    "# Section 1: Swapping Variables Using Tuples\n",
    "a = 5\n",
    "b = 10\n",
    "print(f\"Before swapping: a = {a}, b = {b}\")\n",
    "a, b = b, a  # Swapping using tuple packing and unpacking\n",
    "print(f\"After swapping: a = {a}, b = {b}\")"
   ]
  },
  {
   "cell_type": "code",
   "execution_count": 16,
   "id": "89deab4e",
   "metadata": {},
   "outputs": [
    {
     "name": "stdout",
     "output_type": "stream",
     "text": [
      "Tuple unpacked: x = 1, y = 2, z = 3\n"
     ]
    }
   ],
   "source": [
    "# Section 2: Tuple Unpacking\n",
    "my_tuple = (1, 2, 3)\n",
    "x, y, z = my_tuple  # Unpacking the tuple into variables\n",
    "print(f\"Tuple unpacked: x = {x}, y = {y}, z = {z}\")"
   ]
  },
  {
   "cell_type": "markdown",
   "id": "5a43eace",
   "metadata": {},
   "source": [
    "### >>> Dictionaries"
   ]
  },
  {
   "cell_type": "code",
   "execution_count": 17,
   "id": "3e466a7d",
   "metadata": {},
   "outputs": [
    {
     "name": "stdout",
     "output_type": "stream",
     "text": [
      "Alice's number is 1234567890\n"
     ]
    }
   ],
   "source": [
    "# Section 1: Industrial Phone Book (Accessing Numbers by Names)\n",
    "phone_book = {\n",
    "    \"Alice\": \"1234567890\",\n",
    "    \"Bob\": \"9876543210\",\n",
    "    \"Charlie\": \"5556667777\"\n",
    "}\n",
    "\n",
    "# Access a phone number by name\n",
    "name = \"Alice\"\n",
    "if name in phone_book:\n",
    "    print(f\"{name}'s number is {phone_book[name]}\")\n",
    "else:\n",
    "    print(f\"{name} is not in the phone book.\")"
   ]
  },
  {
   "cell_type": "code",
   "execution_count": 18,
   "id": "5b613c6f",
   "metadata": {},
   "outputs": [
    {
     "name": "stdout",
     "output_type": "stream",
     "text": [
      "Word counts: {'hello': 1, 'world': 1, 'this': 2, 'is': 2, 'a': 2, 'test': 2, 'only': 1}\n"
     ]
    }
   ],
   "source": [
    "# Section 2: Count Words in a Sentence\n",
    "def count_words(sentence):\n",
    "    word_counts = {}\n",
    "    words = sentence.split()  # Splitting sentence into words\n",
    "    for word in words:\n",
    "        word = word.lower()  # Convert to lowercase for consistent counting\n",
    "        if word in word_counts:\n",
    "            word_counts[word] += 1\n",
    "        else:\n",
    "            word_counts[word] = 1\n",
    "    return word_counts\n",
    "\n",
    "sentence = \"Hello world this is a test this is only a test\"\n",
    "print(f\"Word counts: {count_words(sentence)}\")"
   ]
  },
  {
   "cell_type": "code",
   "execution_count": 20,
   "id": "6aee378f",
   "metadata": {},
   "outputs": [
    {
     "name": "stdout",
     "output_type": "stream",
     "text": [
      "Merged dictionary: {'a': 1, 'b': 2, 'c': 10, 'd': 4, 'e': 5}\n"
     ]
    }
   ],
   "source": [
    "# Section 3: Merging Two Dictionaries\n",
    "def merge_dictionaries(dict1, dict2):\n",
    "    merged = {}\n",
    "    for key in dict1:\n",
    "        merged[key] = dict1[key]\n",
    "    for key in dict2:\n",
    "        merged[key] = dict2[key]\n",
    "    return merged\n",
    "\n",
    "dict_a = {\"a\": 1, \"b\": 2, \"c\": 3}\n",
    "dict_b = {\"d\": 4, \"e\": 5, \"c\": 10}  # Overlaps with key 'c'\n",
    "merged_dict = merge_dictionaries(dict_a, dict_b)\n",
    "print(f\"Merged dictionary: {merged_dict}\")"
   ]
  },
  {
   "cell_type": "markdown",
   "id": "c4691f70",
   "metadata": {},
   "source": [
    "### >>> Strings"
   ]
  },
  {
   "cell_type": "code",
   "execution_count": 21,
   "id": "3971fecf",
   "metadata": {},
   "outputs": [
    {
     "name": "stdout",
     "output_type": "stream",
     "text": [
      "Is 'radar' a palindrome? True\n",
      "Is 'hello' a palindrome? False\n"
     ]
    }
   ],
   "source": [
    "# Section 1: Palindrome Check\n",
    "def is_palindrome(s):\n",
    "    s = s.lower().replace(\" \", \"\")  # Convert to lowercase and remove spaces\n",
    "    return s == s[::-1]\n",
    "\n",
    "print(f\"Is 'radar' a palindrome? {is_palindrome('radar')}\")\n",
    "print(f\"Is 'hello' a palindrome? {is_palindrome('hello')}\")"
   ]
  },
  {
   "cell_type": "code",
   "execution_count": 22,
   "id": "6842bf4e",
   "metadata": {},
   "outputs": [
    {
     "name": "stdout",
     "output_type": "stream",
     "text": [
      "Are 'listen' and 'silent' anagrams? True\n",
      "Are 'hello' and 'world' anagrams? False\n"
     ]
    }
   ],
   "source": [
    "# Section 2: Anagram Check\n",
    "def are_anagrams(s1, s2):\n",
    "    return sorted(s1.lower().replace(\" \", \"\")) == sorted(s2.lower().replace(\" \", \"\"))\n",
    "\n",
    "print(f\"Are 'listen' and 'silent' anagrams? {are_anagrams('listen', 'silent')}\")\n",
    "print(f\"Are 'hello' and 'world' anagrams? {are_anagrams('hello', 'world')}\")"
   ]
  },
  {
   "cell_type": "code",
   "execution_count": 23,
   "id": "cb5960e6",
   "metadata": {},
   "outputs": [
    {
     "name": "stdout",
     "output_type": "stream",
     "text": [
      "Reverse of 'hello': olleh\n"
     ]
    }
   ],
   "source": [
    "# Section 3: Reverse a String\n",
    "def reverse_string(s):\n",
    "    return s[::-1]\n",
    "\n",
    "print(f\"Reverse of 'hello': {reverse_string('hello')}\")"
   ]
  },
  {
   "cell_type": "code",
   "execution_count": 24,
   "id": "a07f2db6",
   "metadata": {},
   "outputs": [
    {
     "name": "stdout",
     "output_type": "stream",
     "text": [
      "Length of 'hello': 5\n"
     ]
    }
   ],
   "source": [
    "# Section 4: String Length\n",
    "def string_length(s):\n",
    "    length = 0\n",
    "    for _ in s:\n",
    "        length += 1\n",
    "    return length\n",
    "\n",
    "print(f\"Length of 'hello': {string_length('hello')}\")"
   ]
  },
  {
   "cell_type": "code",
   "execution_count": 25,
   "id": "3e79f194",
   "metadata": {},
   "outputs": [
    {
     "name": "stdout",
     "output_type": "stream",
     "text": [
      "Number of vowels in 'hello world': 3\n"
     ]
    }
   ],
   "source": [
    "# Section 5: Count Vowels in a String\n",
    "def count_vowels(s):\n",
    "    vowels = \"aeiou\"\n",
    "    count = 0\n",
    "    for char in s.lower():\n",
    "        if char in vowels:\n",
    "            count += 1\n",
    "    return count\n",
    "\n",
    "print(f\"Number of vowels in 'hello world': {count_vowels('hello world')}\")"
   ]
  },
  {
   "cell_type": "markdown",
   "id": "831f49ed",
   "metadata": {},
   "source": [
    "### >>> Functions"
   ]
  },
  {
   "cell_type": "code",
   "execution_count": 26,
   "id": "bd5e1934",
   "metadata": {},
   "outputs": [
    {
     "name": "stdout",
     "output_type": "stream",
     "text": [
      "Factorial of 5: 120\n"
     ]
    }
   ],
   "source": [
    "# Section 1: Factorial\n",
    "def factorial(n):\n",
    "    result = 1\n",
    "    for i in range(2, n + 1):\n",
    "        result *= i\n",
    "    return result\n",
    "\n",
    "print(f\"Factorial of 5: {factorial(5)}\")"
   ]
  },
  {
   "cell_type": "code",
   "execution_count": 27,
   "id": "aee0eb23",
   "metadata": {},
   "outputs": [
    {
     "name": "stdout",
     "output_type": "stream",
     "text": [
      "Fibonacci sequence (10 terms): [0, 1, 1, 2, 3, 5, 8, 13, 21, 34]\n"
     ]
    }
   ],
   "source": [
    "# Section 2: Fibonacci Sequence\n",
    "def fibonacci(n):\n",
    "    if n <= 0:\n",
    "        return []\n",
    "    elif n == 1:\n",
    "        return [0]\n",
    "    elif n == 2:\n",
    "        return [0, 1]\n",
    "    fib = [0, 1]\n",
    "    for _ in range(2, n):\n",
    "        fib.append(fib[-1] + fib[-2])\n",
    "    return fib\n",
    "\n",
    "print(f\"Fibonacci sequence (10 terms): {fibonacci(10)}\")"
   ]
  },
  {
   "cell_type": "code",
   "execution_count": 28,
   "id": "0f62f2f5",
   "metadata": {},
   "outputs": [
    {
     "name": "stdout",
     "output_type": "stream",
     "text": [
      "Is 7 a prime number? True\n",
      "Is 10 a prime number? False\n"
     ]
    }
   ],
   "source": [
    "# Section 3: Prime Number Check\n",
    "def is_prime(n):\n",
    "    if n <= 1:\n",
    "        return False\n",
    "    for i in range(2, n):\n",
    "        if n % i == 0:\n",
    "            return False\n",
    "    return True\n",
    "\n",
    "print(f\"Is 7 a prime number? {is_prime(7)}\")\n",
    "print(f\"Is 10 a prime number? {is_prime(10)}\")"
   ]
  },
  {
   "cell_type": "code",
   "execution_count": 29,
   "id": "a67a4389",
   "metadata": {},
   "outputs": [
    {
     "name": "stdout",
     "output_type": "stream",
     "text": [
      "GCD of 48 and 18: 6\n"
     ]
    }
   ],
   "source": [
    "# Section 4: GCD (Greatest Common Divisor)\n",
    "def gcd(a, b):\n",
    "    while b != 0:\n",
    "        a, b = b, a % b\n",
    "    return a\n",
    "\n",
    "print(f\"GCD of 48 and 18: {gcd(48, 18)}\")"
   ]
  },
  {
   "cell_type": "code",
   "execution_count": 30,
   "id": "b4b5daac",
   "metadata": {},
   "outputs": [
    {
     "name": "stdout",
     "output_type": "stream",
     "text": [
      "LCM of 48 and 18: 144\n"
     ]
    }
   ],
   "source": [
    "# Section 5: LCM (Least Common Multiple)\n",
    "def lcm(a, b):\n",
    "    return abs(a * b) // gcd(a, b)\n",
    "\n",
    "print(f\"LCM of 48 and 18: {lcm(48, 18)}\")"
   ]
  },
  {
   "cell_type": "markdown",
   "id": "9e56f37e",
   "metadata": {},
   "source": [
    "### >>> File I/O"
   ]
  },
  {
   "cell_type": "code",
   "execution_count": 31,
   "id": "b01533ed",
   "metadata": {},
   "outputs": [
    {
     "name": "stdout",
     "output_type": "stream",
     "text": [
      "Content written to example.txt.\n"
     ]
    }
   ],
   "source": [
    "# Section 1: Writing to a File\n",
    "def write_to_file(filename, content):\n",
    "    with open(filename, 'w') as file:\n",
    "        file.write(content)\n",
    "    print(f\"Content written to {filename}.\")\n",
    "\n",
    "write_to_file(\"example.txt\", \"Hello, this is a test file.\\nIt has multiple lines.\\nThis is the last line.\")\n"
   ]
  },
  {
   "cell_type": "code",
   "execution_count": 32,
   "id": "87b450ed",
   "metadata": {},
   "outputs": [
    {
     "name": "stdout",
     "output_type": "stream",
     "text": [
      "\n",
      "Reading file content:\n",
      "Hello, this is a test file.\n",
      "It has multiple lines.\n",
      "This is the last line.\n"
     ]
    }
   ],
   "source": [
    "# Section 2: Reading from a File\n",
    "def read_file(filename):\n",
    "    with open(filename, 'r') as file:\n",
    "        content = file.read()\n",
    "    return content\n",
    "\n",
    "print(\"\\nReading file content:\")\n",
    "print(read_file(\"example.txt\"))"
   ]
  },
  {
   "cell_type": "code",
   "execution_count": 33,
   "id": "b99a9e09",
   "metadata": {},
   "outputs": [
    {
     "name": "stdout",
     "output_type": "stream",
     "text": [
      "Content copied from example.txt to example_copy.txt.\n"
     ]
    }
   ],
   "source": [
    "# Section 3: Copying a File\n",
    "def copy_file(source_filename, destination_filename):\n",
    "    with open(source_filename, 'r') as source_file:\n",
    "        content = source_file.read()\n",
    "    with open(destination_filename, 'w') as destination_file:\n",
    "        destination_file.write(content)\n",
    "    print(f\"Content copied from {source_filename} to {destination_filename}.\")\n",
    "\n",
    "copy_file(\"example.txt\", \"example_copy.txt\")"
   ]
  },
  {
   "cell_type": "code",
   "execution_count": 34,
   "id": "3deb1397",
   "metadata": {},
   "outputs": [
    {
     "name": "stdout",
     "output_type": "stream",
     "text": [
      "\n",
      "Number of lines in 'example.txt': 3\n"
     ]
    }
   ],
   "source": [
    "# Section 4: Counting Lines in a File\n",
    "def count_lines_in_file(filename):\n",
    "    line_count = 0\n",
    "    with open(filename, 'r') as file:\n",
    "        for _ in file:\n",
    "            line_count += 1\n",
    "    return line_count\n",
    "\n",
    "print(f\"\\nNumber of lines in 'example.txt': {count_lines_in_file('example.txt')}\")"
   ]
  },
  {
   "cell_type": "markdown",
   "id": "a6daa133",
   "metadata": {},
   "source": [
    "### >>> Modules and Packages"
   ]
  },
  {
   "cell_type": "code",
   "execution_count": 35,
   "id": "2c3de10b",
   "metadata": {},
   "outputs": [
    {
     "name": "stdout",
     "output_type": "stream",
     "text": [
      "Math Module Examples:\n",
      "Square root of 16: 4.0\n",
      "Value of Pi: 3.141592653589793\n",
      "Cosine of 0 radians: 1.0\n",
      "Factorial of 5: 120\n",
      "Logarithm base 10 of 1000: 3.0\n",
      "\n"
     ]
    }
   ],
   "source": [
    "# Section 1: Math Module\n",
    "import math\n",
    "\n",
    "# Using the math module\n",
    "print(\"Math Module Examples:\")\n",
    "print(f\"Square root of 16: {math.sqrt(16)}\")\n",
    "print(f\"Value of Pi: {math.pi}\")\n",
    "print(f\"Cosine of 0 radians: {math.cos(0)}\")\n",
    "print(f\"Factorial of 5: {math.factorial(5)}\")\n",
    "print(f\"Logarithm base 10 of 1000: {math.log10(1000)}\\n\")"
   ]
  },
  {
   "cell_type": "code",
   "execution_count": 36,
   "id": "8604b41d",
   "metadata": {},
   "outputs": [
    {
     "name": "stdout",
     "output_type": "stream",
     "text": [
      "Random Module Examples:\n",
      "Random integer between 1 and 10: 4\n",
      "Random floating-point number between 0 and 1: 0.8756099252567264\n",
      "Random choice from a list [1, 2, 3, 4, 5]: 2\n",
      "List after shuffle: [10, 40, 30, 50, 20]\n",
      "Random sample of 2 elements from [10, 20, 30, 40, 50]: [40, 10]\n",
      "\n"
     ]
    }
   ],
   "source": [
    "# Section 2: Random Module\n",
    "import random\n",
    "\n",
    "# Using the random module\n",
    "print(\"Random Module Examples:\")\n",
    "print(f\"Random integer between 1 and 10: {random.randint(1, 10)}\")\n",
    "print(f\"Random floating-point number between 0 and 1: {random.random()}\")\n",
    "print(f\"Random choice from a list [1, 2, 3, 4, 5]: {random.choice([1, 2, 3, 4, 5])}\")\n",
    "random_list = [10, 20, 30, 40, 50]\n",
    "random.shuffle(random_list)\n",
    "print(f\"List after shuffle: {random_list}\")\n",
    "print(f\"Random sample of 2 elements from [10, 20, 30, 40, 50]: {random.sample([10, 20, 30, 40, 50], 2)}\\n\")"
   ]
  },
  {
   "cell_type": "code",
   "execution_count": 37,
   "id": "c7a838a9",
   "metadata": {},
   "outputs": [
    {
     "name": "stdout",
     "output_type": "stream",
     "text": [
      "Datetime Module Examples:\n",
      "Current date and time: 2024-11-28 14:54:43.194009\n",
      "Current year: 2024\n",
      "Current month: 11\n",
      "Current day: 28\n",
      "Formatted date: 2024-11-28\n"
     ]
    }
   ],
   "source": [
    "# Section 3: Datetime Module\n",
    "from datetime import datetime, timedelta\n",
    "\n",
    "# Using the datetime module\n",
    "print(\"Datetime Module Examples:\")\n",
    "current_time = datetime.now()\n",
    "print(f\"Current date and time: {current_time}\")\n",
    "print(f\"Current year: {current_time.year}\")\n",
    "print(f\"Current month: {current_time.month}\")\n",
    "print(f\"Current day: {current_time.day}\")\n",
    "print(f\"Formatted date: {current_time.strftime('%Y-%m-%d')}\")"
   ]
  },
  {
   "cell_type": "code",
   "execution_count": 38,
   "id": "a0ec0d09",
   "metadata": {},
   "outputs": [
    {
     "name": "stdout",
     "output_type": "stream",
     "text": [
      "Date 10 days from now: 2024-12-08\n",
      "Date 10 days ago: 2024-11-18\n"
     ]
    }
   ],
   "source": [
    "# Adding and subtracting days\n",
    "future_date = current_time + timedelta(days=10)\n",
    "past_date = current_time - timedelta(days=10)\n",
    "print(f\"Date 10 days from now: {future_date.strftime('%Y-%m-%d')}\")\n",
    "print(f\"Date 10 days ago: {past_date.strftime('%Y-%m-%d')}\")"
   ]
  },
  {
   "cell_type": "markdown",
   "id": "db1d3d2c",
   "metadata": {},
   "source": [
    "### >>> Object-Oriented Programming"
   ]
  },
  {
   "cell_type": "code",
   "execution_count": 41,
   "id": "28bbcb03",
   "metadata": {},
   "outputs": [
    {
     "name": "stdout",
     "output_type": "stream",
     "text": [
      "Class and Objects Example:\n",
      "Hello, my name is Advay and I am 23 years old.\n",
      "\n"
     ]
    }
   ],
   "source": [
    "# Section 1: Class and Objects\n",
    "print(\"Class and Objects Example:\")\n",
    "\n",
    "class Person:\n",
    "    def __init__(self, name, age):\n",
    "        self.name = name\n",
    "        self.age = age\n",
    "\n",
    "    def greet(self):\n",
    "        return f\"Hello, my name is {self.name} and I am {self.age} years old.\"\n",
    "\n",
    "# Creating an object of the Person class\n",
    "person1 = Person(\"Advay\", 23)\n",
    "print(person1.greet())\n",
    "print()"
   ]
  },
  {
   "cell_type": "code",
   "execution_count": 43,
   "id": "0220c8a1",
   "metadata": {},
   "outputs": [
    {
     "name": "stdout",
     "output_type": "stream",
     "text": [
      "Inheritance Example:\n",
      "Hello, my name is Advay and I am 23 years old.\n",
      "Advay works as a Data enthusiast.\n",
      "\n"
     ]
    }
   ],
   "source": [
    "# Section 2: Inheritance\n",
    "print(\"Inheritance Example:\")\n",
    "\n",
    "class Employee(Person):  # Employee class inherits from Person class\n",
    "    def __init__(self, name, age, position):\n",
    "        super().__init__(name, age)  # Calling the constructor of the parent class\n",
    "        self.position = position\n",
    "\n",
    "    def work(self):\n",
    "        return f\"{self.name} works as a {self.position}.\"\n",
    "\n",
    "# Creating an object of the Employee class\n",
    "employee1 = Employee(\"Advay\", 23, \"Data enthusiast\")\n",
    "print(employee1.greet())  # Inherited method from the Person class\n",
    "print(employee1.work())   # Method defined in the Employee class\n",
    "print()"
   ]
  },
  {
   "cell_type": "code",
   "execution_count": 44,
   "id": "cfecc865",
   "metadata": {},
   "outputs": [
    {
     "name": "stdout",
     "output_type": "stream",
     "text": [
      "Polymorphism Example:\n",
      "The dog barks.\n",
      "The cat meows.\n",
      "The animal makes a sound.\n"
     ]
    }
   ],
   "source": [
    "# Section 3: Polymorphism\n",
    "print(\"Polymorphism Example:\")\n",
    "\n",
    "class Animal:\n",
    "    def speak(self):\n",
    "        return \"The animal makes a sound.\"\n",
    "\n",
    "class Dog(Animal):\n",
    "    def speak(self):\n",
    "        return \"The dog barks.\"\n",
    "\n",
    "class Cat(Animal):\n",
    "    def speak(self):\n",
    "        return \"The cat meows.\"\n",
    "\n",
    "# Function demonstrating polymorphism\n",
    "def animal_sound(animal):\n",
    "    print(animal.speak())\n",
    "\n",
    "# Creating objects of different classes\n",
    "dog = Dog()\n",
    "cat = Cat()\n",
    "generic_animal = Animal()\n",
    "\n",
    "# Calling the polymorphic function\n",
    "animal_sound(dog)          # Output: \"The dog barks.\"\n",
    "animal_sound(cat)          # Output: \"The cat meows.\"\n",
    "animal_sound(generic_animal)  # Output: \"The animal makes a sound.\""
   ]
  },
  {
   "cell_type": "code",
   "execution_count": null,
   "id": "4c931e32",
   "metadata": {},
   "outputs": [],
   "source": []
  }
 ],
 "metadata": {
  "kernelspec": {
   "display_name": "Python 3 (ipykernel)",
   "language": "python",
   "name": "python3"
  },
  "language_info": {
   "codemirror_mode": {
    "name": "ipython",
    "version": 3
   },
   "file_extension": ".py",
   "mimetype": "text/x-python",
   "name": "python",
   "nbconvert_exporter": "python",
   "pygments_lexer": "ipython3",
   "version": "3.9.13"
  }
 },
 "nbformat": 4,
 "nbformat_minor": 5
}
